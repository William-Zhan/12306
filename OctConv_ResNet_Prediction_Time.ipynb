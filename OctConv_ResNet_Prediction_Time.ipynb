{
  "nbformat": 4,
  "nbformat_minor": 0,
  "metadata": {
    "colab": {
      "name": "OctConv ResNet Prediction Time.ipynb",
      "version": "0.3.2",
      "provenance": [],
      "collapsed_sections": [],
      "include_colab_link": true
    },
    "kernelspec": {
      "name": "python3",
      "display_name": "Python 3"
    }
  },
  "cells": [
    {
      "cell_type": "markdown",
      "metadata": {
        "id": "view-in-github",
        "colab_type": "text"
      },
      "source": [
        "<a href=\"https://colab.research.google.com/github/William-Zhan/12306/blob/master/OctConv_ResNet_Prediction_Time.ipynb\" target=\"_parent\"><img src=\"https://colab.research.google.com/assets/colab-badge.svg\" alt=\"Open In Colab\"/></a>"
      ]
    },
    {
      "cell_type": "markdown",
      "metadata": {
        "id": "EZsMHcCDs13n",
        "colab_type": "text"
      },
      "source": [
        "# Load libraries"
      ]
    },
    {
      "cell_type": "code",
      "metadata": {
        "id": "IJepxw_vr4e7",
        "colab_type": "code",
        "outputId": "3bf5f192-f6c0-415e-ad27-a4d52db46f99",
        "colab": {
          "base_uri": "https://localhost:8080/",
          "height": 119
        }
      },
      "source": [
        "!git clone https://github.com/koshian2/OctConv-TFKeras\n",
        "!mv OctConv-TFKeras/*.py ./"
      ],
      "execution_count": 0,
      "outputs": [
        {
          "output_type": "stream",
          "text": [
            "Cloning into 'OctConv-TFKeras'...\n",
            "remote: Enumerating objects: 57, done.\u001b[K\n",
            "remote: Counting objects: 100% (57/57), done.\u001b[K\n",
            "remote: Compressing objects: 100% (54/54), done.\u001b[K\n",
            "remote: Total 57 (delta 24), reused 2 (delta 0), pack-reused 0\u001b[K\n",
            "Unpacking objects: 100% (57/57), done.\n"
          ],
          "name": "stdout"
        }
      ]
    },
    {
      "cell_type": "markdown",
      "metadata": {
        "id": "YqOBE9SetZLX",
        "colab_type": "text"
      },
      "source": [
        "# Measuring prediction time of OctConv Wide ResNet\n",
        "* alpha = 0 -> normal wide res-net\n",
        "* alpha > 0 -> OctConv wide res-net\n",
        "\n",
        "You may measure 50000 samples with GPU runtime."
      ]
    },
    {
      "cell_type": "code",
      "metadata": {
        "id": "OdqdQgdTsy4b",
        "colab_type": "code",
        "outputId": "a5d1c3bf-1ccb-4396-9183-a806fa212335",
        "colab": {
          "base_uri": "https://localhost:8080/",
          "height": 292
        }
      },
      "source": [
        "from models import *\n",
        "import numpy as np\n",
        "import time\n",
        "from tqdm import tqdm\n",
        "\n",
        "def eval_all():\n",
        "    X = np.random.rand(256, 32, 32, 3).astype(np.float32)\n",
        "    for alpha in [0, 0.25, 0.5, 0.75]:\n",
        "        if alpha == 0:\n",
        "            model = create_normal_wide_resnet()\n",
        "        else:\n",
        "            model = create_octconv_wide_resnet(alpha)\n",
        "        results = []\n",
        "        for i in tqdm(range(20)):\n",
        "            st = time.time()\n",
        "            model.predict(X, batch_size=128)\n",
        "            results.append(time.time()-st)\n",
        "        results = np.array(results)\n",
        "        print(\"alpha = \", alpha)\n",
        "        print(f\"Mean = {np.mean(results):.04}, Median = {np.median(results):.04}\"+\n",
        "              f\", SD = {np.std(results):.04}\")\n",
        "\n",
        "if __name__ == \"__main__\":\n",
        "    eval_all()"
      ],
      "execution_count": 0,
      "outputs": [
        {
          "output_type": "stream",
          "text": [
            "WARNING:tensorflow:From /usr/local/lib/python3.6/dist-packages/tensorflow/python/ops/resource_variable_ops.py:435: colocate_with (from tensorflow.python.framework.ops) is deprecated and will be removed in a future version.\n",
            "Instructions for updating:\n",
            "Colocations handled automatically by placer.\n"
          ],
          "name": "stdout"
        },
        {
          "output_type": "stream",
          "text": [
            "100%|██████████| 20/20 [15:39<00:00, 46.90s/it]\n"
          ],
          "name": "stderr"
        },
        {
          "output_type": "stream",
          "text": [
            "alpha =  0\n",
            "Mean = 47.0, Median = 46.94, SD = 0.3755\n"
          ],
          "name": "stdout"
        },
        {
          "output_type": "stream",
          "text": [
            "100%|██████████| 20/20 [11:44<00:00, 35.12s/it]\n"
          ],
          "name": "stderr"
        },
        {
          "output_type": "stream",
          "text": [
            "alpha =  0.25\n",
            "Mean = 35.23, Median = 35.06, SD = 0.7022\n"
          ],
          "name": "stdout"
        },
        {
          "output_type": "stream",
          "text": [
            "100%|██████████| 20/20 [08:04<00:00, 24.00s/it]\n"
          ],
          "name": "stderr"
        },
        {
          "output_type": "stream",
          "text": [
            "alpha =  0.5\n",
            "Mean = 24.22, Median = 24.04, SD = 0.8978\n"
          ],
          "name": "stdout"
        },
        {
          "output_type": "stream",
          "text": [
            "100%|██████████| 20/20 [05:38<00:00, 16.68s/it]"
          ],
          "name": "stderr"
        },
        {
          "output_type": "stream",
          "text": [
            "alpha =  0.75\n",
            "Mean = 16.92, Median = 16.67, SD = 1.132\n"
          ],
          "name": "stdout"
        },
        {
          "output_type": "stream",
          "text": [
            "\n"
          ],
          "name": "stderr"
        }
      ]
    }
  ]
}